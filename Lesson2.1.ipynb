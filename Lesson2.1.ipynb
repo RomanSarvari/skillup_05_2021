{
 "cells": [
  {
   "cell_type": "code",
   "execution_count": 2,
   "id": "loose-performer",
   "metadata": {},
   "outputs": [
    {
     "name": "stdout",
     "output_type": "stream",
     "text": [
      "Hello\n"
     ]
    }
   ],
   "source": [
    "print(\"Hello\")"
   ]
  },
  {
   "cell_type": "code",
   "execution_count": 9,
   "id": "worldwide-corner",
   "metadata": {},
   "outputs": [
    {
     "name": "stdout",
     "output_type": "stream",
     "text": [
      "\\\n"
     ]
    }
   ],
   "source": [
    "# print(\" THe itsy bitsy spider \\nclimbed up \\\n",
    "#       the waterspout.\")\n",
    "print(\"\\\\\")\n",
    "# print(\"Downcame the rain and washed the spider out.\")"
   ]
  },
  {
   "cell_type": "code",
   "execution_count": 14,
   "id": "sealed-cream",
   "metadata": {},
   "outputs": [
    {
     "name": "stdout",
     "output_type": "stream",
     "text": [
      "My name is Python. Monty Python Monty Python\n"
     ]
    }
   ],
   "source": [
    "# end\n",
    "print(\"My name is\", \"Python.\", end=\" \")\n",
    "print(\"Monty Python\", end=\" \")\n",
    "print(\"Monty Python\")"
   ]
  },
  {
   "cell_type": "code",
   "execution_count": 1,
   "id": "focused-pharmacology",
   "metadata": {},
   "outputs": [
    {
     "name": "stdout",
     "output_type": "stream",
     "text": [
      "My-name-is-Python\n",
      "Hello\n"
     ]
    }
   ],
   "source": [
    "# sep\n",
    "print(\"My\", \"name\", \"is\", \"Python\", sep=\"-\")\n",
    "print(\"Hello\")"
   ]
  },
  {
   "cell_type": "code",
   "execution_count": 3,
   "id": "usual-alignment",
   "metadata": {},
   "outputs": [
    {
     "name": "stdout",
     "output_type": "stream",
     "text": [
      "2\n",
      "2\n"
     ]
    }
   ],
   "source": [
    "# Литералы\n",
    "# 123\n",
    "\n",
    "# c\n",
    "\n",
    "print(\"2\")\n",
    "print(2)"
   ]
  },
  {
   "cell_type": "code",
   "execution_count": 7,
   "id": "congressional-closer",
   "metadata": {},
   "outputs": [
    {
     "data": {
      "text/plain": [
       "-11111111"
      ]
     },
     "execution_count": 7,
     "metadata": {},
     "output_type": "execute_result"
    }
   ],
   "source": [
    "# Integers\n",
    "# 11,111,111\n",
    "# 11.111.111\n",
    "# 11 111 111\n",
    "\n",
    "# 11111111\n",
    "11_111_111\n",
    "-11_111_111"
   ]
  },
  {
   "cell_type": "code",
   "execution_count": 17,
   "id": "golden-ranch",
   "metadata": {},
   "outputs": [
    {
     "name": "stdout",
     "output_type": "stream",
     "text": [
      "83\n",
      "291\n",
      "0b1111011\n"
     ]
    }
   ],
   "source": [
    "# 1, 2, 3, 4, 5, 6, 7, 8, 9, 0\n",
    "# 1, 0\n",
    "# 0, 1, 2, 3, 4, 5, 6, 7\n",
    "# 1, 2, 3, 4, 5, 6, 7, 8, 9, 0, A, B, C, D, E, F\n",
    "\n",
    "# 3 = 3\n",
    "# 111 = 111 = 7\n",
    "# 0000000001\n",
    "# 0000000010\n",
    "# 0000000011\n",
    "# 0000000100\n",
    "# 0000000101\n",
    "# 0000000110\n",
    "# 0000000111\n",
    "\n",
    "print(0o123)\n",
    "print(0x123)\n",
    "# print(0b123)\n",
    "print(bin(123))"
   ]
  },
  {
   "cell_type": "code",
   "execution_count": 28,
   "id": "informal-cotton",
   "metadata": {},
   "outputs": [
    {
     "name": "stdout",
     "output_type": "stream",
     "text": [
      "2.5\n",
      "-0.4\n",
      "0.4\n",
      "4.0\n",
      "4.0\n",
      "4\n",
      "300000000\n",
      "300000000.0\n",
      "300000000.0\n",
      "6.6e-34\n"
     ]
    }
   ],
   "source": [
    "# Floats, floating-point numbers\n",
    "print(2.5)\n",
    "print(-0.4)\n",
    "print(.4)\n",
    "print(4.)\n",
    "print(4.0)\n",
    "print(4)\n",
    "\n",
    "print(300000000)\n",
    "# 3 x 10^8\n",
    "print(3e8)\n",
    "print(3E8)\n",
    "# h\n",
    "print(6.6e-34)"
   ]
  },
  {
   "cell_type": "code",
   "execution_count": 30,
   "id": "danish-board",
   "metadata": {},
   "outputs": [
    {
     "name": "stdout",
     "output_type": "stream",
     "text": [
      "1e-22\n"
     ]
    }
   ],
   "source": [
    "print(0.0000000000000000000001)"
   ]
  },
  {
   "cell_type": "code",
   "execution_count": 36,
   "id": "champion-puppy",
   "metadata": {},
   "outputs": [
    {
     "name": "stdout",
     "output_type": "stream",
     "text": [
      "I like \"Monty Python\"\n",
      "I like\n",
      "I like \"Monty Python\"\n",
      "I'd like to eat something\n"
     ]
    }
   ],
   "source": [
    "# i am Python\n",
    "# I like \"Monty Python\"\n",
    "print(\"I like \\\"Monty Python\\\"\")\n",
    "print('I like')\n",
    "print('I like \"Monty Python\"')\n",
    "print(\"I'd like to eat something\")"
   ]
  },
  {
   "cell_type": "code",
   "execution_count": 40,
   "id": "prospective-escape",
   "metadata": {},
   "outputs": [
    {
     "name": "stdout",
     "output_type": "stream",
     "text": [
      "True\n",
      "True\n",
      "2\n"
     ]
    }
   ],
   "source": [
    "# Bools\n",
    "print(True > False)\n",
    "print(False < True)\n",
    "print(True + True)"
   ]
  },
  {
   "cell_type": "code",
   "execution_count": 42,
   "id": "bored-intervention",
   "metadata": {},
   "outputs": [
    {
     "name": "stdout",
     "output_type": "stream",
     "text": [
      "None\n"
     ]
    }
   ],
   "source": [
    "# None (NoneType)\n",
    "\n",
    "print(None)"
   ]
  },
  {
   "cell_type": "code",
   "execution_count": 66,
   "id": "finnish-department",
   "metadata": {},
   "outputs": [
    {
     "name": "stdout",
     "output_type": "stream",
     "text": [
      "4\n",
      "0\n",
      "2\n",
      "-2\n"
     ]
    },
    {
     "ename": "NameError",
     "evalue": "name 'b' is not defined",
     "output_type": "error",
     "traceback": [
      "\u001b[0;31m-------------------------------------------------------------------------\u001b[0m",
      "\u001b[0;31mNameError\u001b[0m                               Traceback (most recent call last)",
      "\u001b[0;32m<ipython-input-66-e9bf0fb6ed4b>\u001b[0m in \u001b[0;36m<module>\u001b[0;34m\u001b[0m\n\u001b[1;32m     43\u001b[0m \u001b[0;31m# 3. +, - (бинарный)\u001b[0m\u001b[0;34m\u001b[0m\u001b[0;34m\u001b[0m\u001b[0;34m\u001b[0m\u001b[0m\n\u001b[1;32m     44\u001b[0m \u001b[0;34m\u001b[0m\u001b[0m\n\u001b[0;32m---> 45\u001b[0;31m \u001b[0mD\u001b[0m \u001b[0;34m=\u001b[0m \u001b[0mb\u001b[0m\u001b[0;34m**\u001b[0m\u001b[0;36m2\u001b[0m \u001b[0;34m-\u001b[0m \u001b[0;36m4\u001b[0m\u001b[0;34m*\u001b[0m\u001b[0ma\u001b[0m\u001b[0;34m*\u001b[0m\u001b[0mc\u001b[0m\u001b[0;34m\u001b[0m\u001b[0;34m\u001b[0m\u001b[0m\n\u001b[0m\u001b[1;32m     46\u001b[0m \u001b[0mx1\u001b[0m \u001b[0;34m=\u001b[0m \u001b[0;34m(\u001b[0m\u001b[0;34m-\u001b[0m\u001b[0mb\u001b[0m \u001b[0;34m+\u001b[0m \u001b[0mD\u001b[0m\u001b[0;34m**\u001b[0m\u001b[0;36m0.5\u001b[0m\u001b[0;34m)\u001b[0m \u001b[0;34m/\u001b[0m \u001b[0;36m2\u001b[0m\u001b[0;34m*\u001b[0m\u001b[0ma\u001b[0m\u001b[0;34m\u001b[0m\u001b[0;34m\u001b[0m\u001b[0m\n",
      "\u001b[0;31mNameError\u001b[0m: name 'b' is not defined"
     ]
    }
   ],
   "source": [
    "# print(2 + 2)\n",
    "# + - * / // % **\n",
    "# print(2**3)\n",
    "# print(2**3.)\n",
    "# print(2.**3)\n",
    "# print(2.**3.)\n",
    "\n",
    "# *\n",
    "# print(2 * 3)\n",
    "# print(2 * 3.)\n",
    "# print(2. * 3)\n",
    "# print(2. * 3.)\n",
    "\n",
    "# print(6 / 3)\n",
    "# print(6 / 3.)\n",
    "# print(6. / 3)\n",
    "# print(6. / 3.)\n",
    "\n",
    "# print(6 // 3)\n",
    "# print(6 // 3.)\n",
    "# print(6. // 3)\n",
    "# print(6. // 3.)\n",
    "\n",
    "# 6. // 4.\n",
    "# 6 // 4\n",
    "# 6 // -4\n",
    "\n",
    "# %\n",
    "# print(14 // 4)\n",
    "# print(14 % 4)\n",
    "# print(12 % 4.5)\n",
    "# DON\"T DO THAT ---> print(1/0)\n",
    "\n",
    "print(2 + 2)\n",
    "print(2 - 2)\n",
    "\n",
    "print(+2)\n",
    "print(-2)\n",
    "\n",
    "# 0. +, - (унарный)\n",
    "# 1. **\n",
    "# 2. *, /, //, %\n",
    "# 3. +, - (бинарный)\n",
    "\n",
    "D = b**2 - 4*a*c\n",
    "x1 = (-b + D**0.5) / 2*a"
   ]
  },
  {
   "cell_type": "code",
   "execution_count": 69,
   "id": "buried-career",
   "metadata": {},
   "outputs": [
    {
     "data": {
      "text/plain": [
       "256"
      ]
     },
     "execution_count": 69,
     "metadata": {},
     "output_type": "execute_result"
    }
   ],
   "source": [
    "2 ** 8"
   ]
  },
  {
   "cell_type": "code",
   "execution_count": 70,
   "id": "right-assessment",
   "metadata": {},
   "outputs": [
    {
     "name": "stdout",
     "output_type": "stream",
     "text": [
      "Мне  25  лет\n"
     ]
    }
   ],
   "source": [
    "print(\"Мне \", 25, \" лет\")"
   ]
  }
 ],
 "metadata": {
  "kernelspec": {
   "display_name": "Python 3",
   "language": "python",
   "name": "python3"
  },
  "language_info": {
   "codemirror_mode": {
    "name": "ipython",
    "version": 3
   },
   "file_extension": ".py",
   "mimetype": "text/x-python",
   "name": "python",
   "nbconvert_exporter": "python",
   "pygments_lexer": "ipython3",
   "version": "3.9.1"
  }
 },
 "nbformat": 4,
 "nbformat_minor": 5
}
