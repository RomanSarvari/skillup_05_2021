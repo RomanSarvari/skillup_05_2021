{
 "cells": [
  {
   "cell_type": "code",
   "execution_count": 1,
   "id": "comprehensive-beauty",
   "metadata": {},
   "outputs": [],
   "source": [
    "# Dicts\n",
    "# Key:Value\n",
    "\n",
    "# List\n",
    "# [] = 1 2 3 6 4 1\n",
    "# [] i 0 1 2 3 4 5\n",
    "\n",
    "# Dicts\n",
    "# {} = John:25, Marry: 42, Mark:54\n",
    "# {} a John     Marry      Mark\n",
    "\n",
    "# 1. John Doe 44-25\n",
    "# 2. Peter Parker 42-221\n",
    "# 3. Marry Key 41-234\n",
    "\n",
    "# [{John Doe:44-25}, {Peter Parker:42-221}, {Marry Key:41-234}]\n",
    "\n"
   ]
  },
  {
   "cell_type": "code",
   "execution_count": 61,
   "id": "chicken-picking",
   "metadata": {},
   "outputs": [
    {
     "name": "stdout",
     "output_type": "stream",
     "text": [
      "6\n",
      "False\n",
      "None\n",
      "dict_keys(['Вася Пупкин', 'Коля Сергеев', 'Сергей Сидоров', 'Маша Гегель', 'Сергей Помидоров'])\n",
      "dict_values([[2, 4], [3, 3], [2, 1], [3, 5], [3, 5]])\n",
      "('Сергей Помидоров', [3, 5])\n",
      "{'Вася Пупкин': [2, 4],\n",
      " 'Коля Сергеев': [3, 3],\n",
      " 'Маша Гегель': [3, 5],\n",
      " 'Сергей Сидоров': [2, 1]}\n",
      "{'Jhon Doe': [5, 5, 5],\n",
      " 'Вася Пупкин': [2, 4],\n",
      " 'Коля Сергеев': [3, 3],\n",
      " 'Маша Гегель': [3, 5],\n",
      " 'Сергей Сидоров': [2, 1]}\n",
      "{'Jhon Doe': [5, 5, 5],\n",
      " 'Вася Пупкин': [2, 4],\n",
      " 'Коля Сергеев': [3, 3],\n",
      " 'Маша Гегель': [3, 5],\n",
      " 'Сергей Сидоров': [2, 1]}\n",
      "{'Вася Пупкин': [2, 4],\n",
      " 'Коля Сергеев': [3, 3],\n",
      " 'Маша Гегель': [3, 5],\n",
      " 'Сергей Сидоров': [2, 1]}\n",
      "======================\n",
      "{'Jhon Doe': [5, 5, 5],\n",
      " 'Вася Пупкин': [2, 4],\n",
      " 'Коля Сергеев': [3, 3],\n",
      " 'Маша Гегель': [3, 5],\n",
      " 'Сергей Сидоров': [2, 1]}\n",
      "{}\n"
     ]
    }
   ],
   "source": [
    "from pprint import pprint\n",
    "# [1, 4, [4, 2, [2, 9, ], [1, 1]]]\n",
    "\n",
    "# students = {\n",
    "#     \"математика\": {\n",
    "#         \"Вася Пупкин\": 5,\n",
    "#         \"Коля Сергеев\": 3,\n",
    "#         \"Сергей Сидоров\": 4,\n",
    "#         \"Маша Гегель\": 4,\n",
    "#         \"Сергей Помидоров\": 2,\n",
    "#         \"Александр Чеснаков\": 4,    \n",
    "#     },\n",
    "#     \"физо\": {\n",
    "#         \"Вася Пупкин\": 5,\n",
    "#         \"Коля Сергеев\": 3,\n",
    "#         \"Сергей Сидоров\": 4,\n",
    "#         \"Маша Гегель\": 4,\n",
    "#         \"Сергей Помидоров\": 2,\n",
    "#         \"Александр Чеснаков\": 4,    \n",
    "#     },\n",
    "# }\n",
    "\n",
    "# students = {\n",
    "#         \"Вася Пупкин\": {\n",
    "#             \"математика\": 5,\n",
    "#             \"физо\": 3\n",
    "#         },\n",
    "#         \"Коля Сергеев\": {\n",
    "#             \"математика\": 5,\n",
    "#             \"физо\": 3\n",
    "#         },\n",
    "#         \"Сергей Сидоров\": 4,\n",
    "#         \"Маша Гегель\": 4,\n",
    "#         \"Сергей Помидоров\": 2,\n",
    "#         \"Александр Чеснаков\": 4,    \n",
    "# }\n",
    "\n",
    "marks = {\n",
    "    \"Математика\": 0,\n",
    "    \"Физо\": 1\n",
    "}\n",
    "\n",
    "students = {\n",
    "        \"Вася Пупкин\": [2, 4],\n",
    "        \"Коля Сергеев\": [3, 3],\n",
    "        \"Сергей Сидоров\": [2, 1],\n",
    "        \"Маша Гегель\": [3, 5],\n",
    "        \"Сергей Помидоров\": [3, 5],\n",
    "        \"Александр Чеснаков\": [4, 1]\n",
    "}\n",
    "\n",
    "# pprint(students[\"Сергей Помидоров\"][marks[\"Физо\"]])\n",
    "\n",
    "print(len(students))\n",
    "del students[\"Александр Чеснаков\"]\n",
    "# pprint(students)\n",
    "\n",
    "print(\"Сергей Помидоровфывфывфыв\" in students)\n",
    "\n",
    "print(students.get(\"Сергей Помидоровqweqwe\"))\n",
    "# print(students[\"Сергей Помидоровqweqwe\"]) -> Вернет ошибку\n",
    "# pprint(students.items())\n",
    "pprint(students.keys())\n",
    "pprint(students.values())\n",
    "\n",
    "# student = students.pop(\"Маша Гегель\")\n",
    "student = students.popitem()\n",
    "print(student)\n",
    "pprint(students)\n",
    "\n",
    "new_students = {\n",
    "    \"Jhon Doe\": [5, 5, 5]\n",
    "}\n",
    "students.update(new_students)\n",
    "pprint(students)\n",
    "\n",
    "students_2 = students.copy() # Полная копия словаря\n",
    "del students_2[\"Jhon Doe\"]\n",
    "pprint(students)\n",
    "pprint(students_2)\n",
    "students_2.clear()\n",
    "print(\"======================\")\n",
    "pprint(students)\n",
    "pprint(students_2)"
   ]
  },
  {
   "cell_type": "code",
   "execution_count": 62,
   "id": "absent-douglas",
   "metadata": {},
   "outputs": [
    {
     "name": "stdout",
     "output_type": "stream",
     "text": [
      "True\n"
     ]
    }
   ],
   "source": [
    "numbers = [1,2,3,4,5]\n",
    "\n",
    "print(5 in numbers)"
   ]
  },
  {
   "cell_type": "code",
   "execution_count": 72,
   "id": "extended-mixer",
   "metadata": {},
   "outputs": [
    {
     "name": "stdout",
     "output_type": "stream",
     "text": [
      "5\n"
     ]
    }
   ],
   "source": [
    "# Числовые\n",
    "# Целые\n",
    "# Пл. точкой\n",
    "# Комплексные (x + y*j), j = -1*0.5\n",
    "\n",
    "# Булевые\n",
    "\n",
    "# Последов.\n",
    "# Строки\n",
    "# Списки\n",
    "# Словари\n",
    "# Кортеж\n",
    "\n",
    "# class tuple([interable])\n",
    "\n",
    "t = (2.3, \"ABCD\", False)\n",
    "t = (2.3, \"ABCD\", False, (3, 5))\n",
    "print(t[3][1])"
   ]
  },
  {
   "cell_type": "code",
   "execution_count": 73,
   "id": "postal-implement",
   "metadata": {},
   "outputs": [
    {
     "name": "stdout",
     "output_type": "stream",
     "text": [
      "(2.3,)\n"
     ]
    }
   ],
   "source": [
    "t = (2.3,)\n",
    "print(t)"
   ]
  },
  {
   "cell_type": "code",
   "execution_count": 81,
   "id": "gross-manner",
   "metadata": {},
   "outputs": [
    {
     "name": "stdout",
     "output_type": "stream",
     "text": [
      "(12, 'Hello', [1, 2, 3])\n",
      "(12, 'Hello', [1, 2, 3, 'New string'])\n"
     ]
    }
   ],
   "source": [
    "test_list = [1, 2, 3]\n",
    "t = (12, \"Hello\", test_list)\n",
    "\n",
    "pprint(t)\n",
    "\n",
    "test_list.append(\"New string\")\n",
    "\n",
    "pprint(t)"
   ]
  },
  {
   "cell_type": "code",
   "execution_count": 85,
   "id": "knowing-appliance",
   "metadata": {},
   "outputs": [
    {
     "name": "stdout",
     "output_type": "stream",
     "text": [
      "{5, 'a', 'text'}\n",
      "{1, 2, 3, 4, 5}\n"
     ]
    }
   ],
   "source": [
    "# Sets\n",
    "# =================================\n",
    "\n",
    "print({\"a\", 5, \"text\"})\n",
    "print({1,2,3,4,5})\n",
    "\n",
    "a = set()"
   ]
  },
  {
   "cell_type": "code",
   "execution_count": null,
   "id": "incorporated-repair",
   "metadata": {},
   "outputs": [],
   "source": [
    "# in\n",
    "# -\n",
    "# |\n",
    "# &\n",
    "# -\n",
    "\n"
   ]
  }
 ],
 "metadata": {
  "kernelspec": {
   "display_name": "Python 3",
   "language": "python",
   "name": "python3"
  },
  "language_info": {
   "codemirror_mode": {
    "name": "ipython",
    "version": 3
   },
   "file_extension": ".py",
   "mimetype": "text/x-python",
   "name": "python",
   "nbconvert_exporter": "python",
   "pygments_lexer": "ipython3",
   "version": "3.9.1"
  }
 },
 "nbformat": 4,
 "nbformat_minor": 5
}
