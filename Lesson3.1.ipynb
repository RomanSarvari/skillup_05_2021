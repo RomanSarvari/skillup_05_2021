{
 "cells": [
  {
   "cell_type": "code",
   "execution_count": 3,
   "id": "norwegian-portland",
   "metadata": {},
   "outputs": [
    {
     "name": "stdout",
     "output_type": "stream",
     "text": [
      "50\n"
     ]
    }
   ],
   "source": [
    "a = 20\n",
    "b = 30\n",
    "c = a + b\n",
    "print(c)"
   ]
  },
  {
   "cell_type": "code",
   "execution_count": 8,
   "id": "emotional-borough",
   "metadata": {},
   "outputs": [
    {
     "name": "stdout",
     "output_type": "stream",
     "text": [
      "Enter a: 12\n",
      "Enter b: 12\n"
     ]
    }
   ],
   "source": [
    "a = input(\"Enter a: \")\n",
    "b = input(\"Enter b: \")\n",
    "a = int(a)\n",
    "b = int(b)"
   ]
  },
  {
   "cell_type": "code",
   "execution_count": 16,
   "id": "stupid-delivery",
   "metadata": {},
   "outputs": [
    {
     "name": "stdout",
     "output_type": "stream",
     "text": [
      "b > a. Это правда\n"
     ]
    }
   ],
   "source": [
    "a = 10\n",
    "b = 20\n",
    "\n",
    "# False, None, 0\n",
    "# >, >=, <, <=, ==, !=\n",
    "\n",
    "# if выражение:\n",
    "#     TODO\n",
    "\n",
    "# if () {\n",
    "#     TODO\n",
    "# }\n",
    "\n",
    "if not a > b:\n",
    "# if a < b:\n",
    "    print(\"b > a. Это правда\")"
   ]
  },
  {
   "cell_type": "code",
   "execution_count": 35,
   "id": "returning-atlantic",
   "metadata": {},
   "outputs": [
    {
     "name": "stdout",
     "output_type": "stream",
     "text": [
      "Enter your username: dima\n",
      "Enter your password: blablabla\n",
      "Password is incorrect\n",
      "Try again...\n",
      "\n",
      "Enter your username: dima\n",
      "Enter your password: qwe\n",
      "Password is incorrect\n",
      "Try again...\n",
      "\n",
      "Enter your username: admin\n",
      "Enter your password: admin\n",
      "Success auth. Hello dear admin!\n",
      "Congratulations !!!!\n"
     ]
    }
   ],
   "source": [
    "# in the database\n",
    "username = 'dima'\n",
    "password = 'password'\n",
    "\n",
    "admin_username = 'admin'\n",
    "admin_password = 'admin'\n",
    "# end database\n",
    "\n",
    "user_is_auth = False\n",
    "\n",
    "while not user_is_auth:\n",
    "    username_input = input(\"Enter your username: \")\n",
    "    password_input = input(\"Enter your password: \")\n",
    "\n",
    "    if username_input == username and password_input == password:\n",
    "        print(\"Success auth\")\n",
    "        user_is_auth = True\n",
    "    elif username_input == admin_username and password_input == admin_password:\n",
    "        print(\"Success auth. Hello dear admin!\")\n",
    "        user_is_auth = True\n",
    "    elif username_input == 'hack' or password_input == 'hack':\n",
    "        print(\"Success auth. Hello dear hacker!\")\n",
    "        user_is_auth = True\n",
    "    else:\n",
    "        if username_input != username:\n",
    "            print(\"Username is incorrect\")\n",
    "        if password_input != password:\n",
    "            print(\"Password is incorrect\")\n",
    "        print(\"Try again...\\n\")\n",
    "print(\"Congratulations !!!!\")"
   ]
  },
  {
   "cell_type": "code",
   "execution_count": 33,
   "id": "choice-pathology",
   "metadata": {},
   "outputs": [],
   "source": [
    "# for\n",
    "# while\n",
    "\n",
    "# for {variable} in {iterable}:\n",
    "#     TODO\n",
    "\n",
    "# for {variable} in [1, 3, 9, 2]:\n",
    "#     Repead 4 times\n",
    "\n",
    "\n",
    "# while {condition} <- boolean:\n",
    "#    TODO\n"
   ]
  },
  {
   "cell_type": "code",
   "execution_count": 44,
   "id": "corporate-address",
   "metadata": {},
   "outputs": [
    {
     "name": "stdout",
     "output_type": "stream",
     "text": [
      "Hello, Dima\n",
      "Hello, Sasha\n",
      "Hello, Vova\n",
      "Hello, Anna\n"
     ]
    }
   ],
   "source": [
    "# Fuctions .=====================\n",
    "\n",
    "# def {fuction_name}():\n",
    "#     TODO\n",
    "\n",
    "\n",
    "def greeting(name):\n",
    "    print(\"Hello,\", name)\n",
    "    \n",
    "    \n",
    "greeting(\"Dima\")\n",
    "greeting(\"Sasha\")\n",
    "greeting(\"Vova\")\n",
    "greeting(\"Anna\")"
   ]
  },
  {
   "cell_type": "code",
   "execution_count": 45,
   "id": "published-sudan",
   "metadata": {},
   "outputs": [
    {
     "name": "stdout",
     "output_type": "stream",
     "text": [
      "4\n",
      "4\n",
      "1\n",
      "9\n"
     ]
    }
   ],
   "source": [
    "# Парабола\n",
    "\n",
    "def parabola(x):\n",
    "    print(x**2)\n",
    "    \n",
    "parabola(2)\n",
    "parabola(-2)\n",
    "parabola(1)\n",
    "parabola(3)"
   ]
  },
  {
   "cell_type": "code",
   "execution_count": 52,
   "id": "juvenile-battle",
   "metadata": {},
   "outputs": [
    {
     "name": "stdout",
     "output_type": "stream",
     "text": [
      "[{'heigh': 2.1, 'name': 'John Doe'},\n",
      " {'heigh': 2.0, 'name': 'Tonny Stark'},\n",
      " {'heigh': 2.2, 'name': 'New player'},\n",
      " {'heigh': 2.3, 'name': 'New player 3'},\n",
      " {'heigh': 2.3, 'name': 'Peter Parker'}]\n"
     ]
    }
   ],
   "source": [
    "# Создайте программу, хранящую информацию о вели- ких баскетболистах.\n",
    "# Нужно хранить имя баскетболиста и его рост.\n",
    "# Требуется реализовать возможность добавления, удаления, поиска, замены данных.\n",
    "from pprint import pprint\n",
    "players = [\n",
    "    {\n",
    "        \"name\": \"John Doe\",\n",
    "        \"heigh\": 2.1\n",
    "    },\n",
    "    {\n",
    "        \"name\": \"Peter Parker\",\n",
    "        \"heigh\": 1.9\n",
    "    },\n",
    "    {\n",
    "        \"name\": \"Tonny Stark\",\n",
    "        \"heigh\": 2.0\n",
    "    },\n",
    "]\n",
    "\n",
    "def add_player(name, heigh):\n",
    "    players.append({\n",
    "        \"name\": name,\n",
    "        \"heigh\": heigh\n",
    "    })\n",
    "    \n",
    "def remove_player(name):\n",
    "#     index = 0\n",
    "    for index, player in enumerate(players):\n",
    "        if player[\"name\"] == name:\n",
    "            del players[index]\n",
    "#         else:\n",
    "#             index += 1\n",
    "\n",
    "# HOMEWORK\n",
    "# ===============================================\n",
    "def update_player(index, name, heigh):\n",
    "    # If not name or not heigh -> leave old\n",
    "    pass\n",
    "\n",
    "# update_player(2, \"Marry F\", None)\n",
    "# update_player(2, None, None)\n",
    "# ===============================================\n",
    "\n",
    "\n",
    "add_player(\"New player\", 2.2)\n",
    "add_player(\"New player 2\", 3.2)\n",
    "add_player(\"New player 3\", 2.3)\n",
    "\n",
    "remove_player(\"Peter Parker\")\n",
    "remove_player(\"New player 2\")\n",
    "\n",
    "add_player(\"Peter Parker\", 2.3)\n",
    "\n",
    "pprint(players)"
   ]
  },
  {
   "cell_type": "code",
   "execution_count": null,
   "id": "fatty-example",
   "metadata": {},
   "outputs": [],
   "source": [
    "# общеизвестные\n",
    "# неочевыдные\n",
    "# позже\n",
    "# когда нибуть изучить\n",
    "# не нужны\n",
    "\n",
    "1. ==========\n",
    "print\n",
    "len\n",
    "str\n",
    "int\n",
    "float\n",
    "dict\n",
    "list\n",
    "tuple\n",
    "set\n",
    "range\n",
    "\n",
    "2. ==========\n",
    "bool\n",
    "enumerate\n",
    "zip\n",
    "reversed\n",
    "sum\n",
    "min, max\n",
    "sorted\n",
    "any, all\n",
    "\n",
    "breakpoint\n",
    "dir\n",
    "repr\n",
    "locals\n",
    "globals\n",
    "vars\n",
    "type\n",
    "help"
   ]
  }
 ],
 "metadata": {
  "kernelspec": {
   "display_name": "Python 3",
   "language": "python",
   "name": "python3"
  },
  "language_info": {
   "codemirror_mode": {
    "name": "ipython",
    "version": 3
   },
   "file_extension": ".py",
   "mimetype": "text/x-python",
   "name": "python",
   "nbconvert_exporter": "python",
   "pygments_lexer": "ipython3",
   "version": "3.9.1"
  }
 },
 "nbformat": 4,
 "nbformat_minor": 5
}
