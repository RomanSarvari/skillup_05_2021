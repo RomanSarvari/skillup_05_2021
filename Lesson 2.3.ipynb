{
 "cells": [
  {
   "cell_type": "code",
   "execution_count": 22,
   "id": "swiss-surface",
   "metadata": {},
   "outputs": [
    {
     "name": "stdout",
     "output_type": "stream",
     "text": [
      "[10, 5, 7, 2, 1]\n",
      "[10, 5, 7, 145, 1]\n",
      "5\n",
      "1\n"
     ]
    }
   ],
   "source": [
    "# Numbers, strings, booleans, None\n",
    "\n",
    "# Collections\n",
    "\n",
    "# Lists\n",
    "\n",
    "# val1 = int(input())\n",
    "# val2 = int(input())\n",
    "# val3 = int(input())\n",
    "# val4 = int(input())\n",
    "# val5 = int(input())\n",
    "# val6 = int(input())\n",
    "\n",
    "numbers = [10, 5, 7, 2, 1]\n",
    "\n",
    "print(numbers)\n",
    "\n",
    "numbers[3] = 145\n",
    "\n",
    "print(numbers)\n",
    "\n",
    "# Length\n",
    "print(len(numbers))\n",
    "print(numbers[len(numbers)-1])"
   ]
  },
  {
   "cell_type": "code",
   "execution_count": 34,
   "id": "measured-awareness",
   "metadata": {
    "collapsed": true
   },
   "outputs": [
    {
     "name": "stdout",
     "output_type": "stream",
     "text": [
      "['John', 'Tony', 'Sarra', 'Mike']\n",
      "Mike\n",
      "Mike\n",
      "['John', 'Tony', 'Mike']\n",
      "Mike\n"
     ]
    }
   ],
   "source": [
    "students = [\"John\", \"Tony\", \"Sarra\", \"Mike\"]\n",
    "\n",
    "print(students)\n",
    "\n",
    "print(students[3])\n",
    "\n",
    "index = len(students) - 1\n",
    "print(students[index])\n",
    "\n",
    "# ==========================\n",
    "del students[2]\n",
    "print(students)\n",
    "\n",
    "\n",
    "print(students[2])"
   ]
  },
  {
   "cell_type": "code",
   "execution_count": 60,
   "id": "accepting-toolbox",
   "metadata": {},
   "outputs": [
    {
     "name": "stdout",
     "output_type": "stream",
     "text": [
      "Group 1: ['Marry', 'Sam', 'Jack']\n",
      "Group 2: ['Don', 'Paul', 'Bill']\n",
      "Group 1: ['Marry', 'Sam', 'Jack', 'Jack']\n",
      "Group 1: ['Marry', 'Sam', 'Jack', 'Jack', 'Rosa']\n"
     ]
    }
   ],
   "source": [
    "# Метод - это\n",
    "# Ф-ция: y = x^2\n",
    "\n",
    "# result = function(arg: optional)\n",
    "# result = data.method(arg: optional)\n",
    "# result = function(data: required, arg: optional) == method\n",
    "# ==============\n",
    "# list.append(value: required)\n",
    "\n",
    "# Group 1\n",
    "group_1 = [\"Marry\", \"Sam\", \"Jack\"]\n",
    "print(\"Group 1:\", group_1)\n",
    "\n",
    "# Group 2\n",
    "group_2 = [\"Don\", \"Paul\", \"Bill\"]\n",
    "print(\"Group 2:\", group_2)\n",
    "\n",
    "# print(group_1[0])\n",
    "# print(group_2[1])\n",
    "\n",
    "group_1.append(\"Jack\")\n",
    "\n",
    "del group_2[1]\n",
    "\n",
    "# print(\"Group 1:\", group_1)\n",
    "# print(\"Group 2:\", group_2)\n",
    "\n",
    "# Insert\n",
    "# list.insert(lication, value)\n",
    "\n",
    "print(\"Group 1:\", group_1)\n",
    "group_1.insert(1000, \"Rosa\")\n",
    "print(\"Group 1:\", group_1)"
   ]
  },
  {
   "cell_type": "code",
   "execution_count": 70,
   "id": "fifth-permission",
   "metadata": {},
   "outputs": [
    {
     "name": "stdout",
     "output_type": "stream",
     "text": [
      "[10, 5, 7, 145, 1]\n",
      "Total = 168\n"
     ]
    }
   ],
   "source": [
    "total = 0\n",
    "print(numbers)\n",
    "\n",
    "# total = total + numbers[0] + numbers[1] + numbers[2] + numbers[3] + numbers[4]\n",
    "\n",
    "# for element in sequence: do\n",
    "# # for element in list: do\n",
    "\n",
    "for number in numbers:\n",
    "    total += number\n",
    "\n",
    "print(\"Total =\", total)"
   ]
  },
  {
   "cell_type": "code",
   "execution_count": 77,
   "id": "foreign-vanilla",
   "metadata": {},
   "outputs": [
    {
     "name": "stdout",
     "output_type": "stream",
     "text": [
      "10\n",
      "5\n",
      "7\n",
      "145\n",
      "1\n",
      "10\n",
      "5\n",
      "7\n",
      "145\n",
      "1\n"
     ]
    }
   ],
   "source": [
    "# numbers\n",
    "for i in range(len(numbers)):\n",
    "    print(numbers[i])\n",
    "    \n",
    "for i in numbers:\n",
    "    print(i)"
   ]
  },
  {
   "cell_type": "code",
   "execution_count": 87,
   "id": "convertible-judgment",
   "metadata": {},
   "outputs": [
    {
     "name": "stdout",
     "output_type": "stream",
     "text": [
      "Group 1: ['Marry', 'Sam', 'Jack']\n",
      "Group 2: ['Don', 'Paul', 'Bill']\n",
      "10\n",
      "10\n",
      "['Marry', 'Sam']\n",
      "['Marry', 'Sam']\n"
     ]
    }
   ],
   "source": [
    "# Group 1\n",
    "group_1 = [\"Marry\", \"Sam\", \"Jack\"]\n",
    "print(\"Group 1:\", group_1)\n",
    "\n",
    "# Group 2\n",
    "group_2 = [\"Don\", \"Paul\", \"Bill\"]\n",
    "print(\"Group 2:\", group_2)\n",
    "\n",
    "group_3 = group_1\n",
    "\n",
    "a = 10\n",
    "b = a\n",
    "\n",
    "print(a)\n",
    "print(b)\n",
    "\n",
    "a = 20\n",
    "\n",
    "del group_1[2]\n",
    "print(group_1)\n",
    "print(group_3)"
   ]
  },
  {
   "cell_type": "code",
   "execution_count": 94,
   "id": "classical-rebecca",
   "metadata": {},
   "outputs": [
    {
     "name": "stdout",
     "output_type": "stream",
     "text": [
      "Group 1: ['Marry', 'Sam', 'Jack']\n",
      "Group 2: ['Don', 'Paul', 'Bill']\n",
      "Group 1: ['Marry', 'Sam']\n",
      "Group 3: ['Marry', 'Sam', 'Jack']\n"
     ]
    }
   ],
   "source": [
    "# Group 1\n",
    "group_1 = [\"Marry\", \"Sam\", \"Jack\"]\n",
    "print(\"Group 1:\", group_1)\n",
    "\n",
    "# Group 2\n",
    "group_2 = [\"Don\", \"Paul\", \"Bill\"]\n",
    "print(\"Group 2:\", group_2)\n",
    "\n",
    "group_3 = group_1.copy()\n",
    "\n",
    "del group_1[2]\n",
    "print(\"Group 1:\", group_1)\n",
    "print(\"Group 3:\", group_3)"
   ]
  },
  {
   "cell_type": "code",
   "execution_count": 102,
   "id": "sufficient-mumbai",
   "metadata": {},
   "outputs": [
    {
     "name": "stdout",
     "output_type": "stream",
     "text": [
      "[1, None, 'Text', True, 13.2]\n",
      "[1, None, 'Text', True, 13.2, 'One more text']\n",
      "[1, None, 'Text', True, 13.2, 'One more text', [1, True, 'String']]\n",
      "[1, True, 'String']\n",
      "True\n"
     ]
    }
   ],
   "source": [
    "elements = [1, None, \"Text\", True, 13.2]\n",
    "print(elements)\n",
    "elements.append(\"One more text\")\n",
    "print(elements)\n",
    "elements.append([1, True, \"String\"])\n",
    "print(elements)\n",
    "\n",
    "print(elements[6])\n",
    "print(elements[6][1])"
   ]
  },
  {
   "cell_type": "code",
   "execution_count": 106,
   "id": "weird-capitol",
   "metadata": {},
   "outputs": [
    {
     "name": "stdout",
     "output_type": "stream",
     "text": [
      "['white', 'purple', 'blue', 'yellow', 'green']\n",
      "['blue', 'green', 'purple', 'white', 'yellow']\n",
      "[1, 5, 7, 10, 145]\n",
      "[1, 5, 7, 10, 145]\n"
     ]
    }
   ],
   "source": [
    "colors = [\"white\", \"purple\", \"blue\", \"yellow\", \"green\"]\n",
    "\n",
    "print(colors)\n",
    "\n",
    "colors.sort()\n",
    "\n",
    "print(colors)\n",
    "\n",
    "print(numbers)\n",
    "numbers.sort()\n",
    "print(numbers)"
   ]
  },
  {
   "cell_type": "code",
   "execution_count": 120,
   "id": "comparable-denver",
   "metadata": {},
   "outputs": [
    {
     "name": "stdout",
     "output_type": "stream",
     "text": [
      "['John', 'Tony', 'Mike', 'Marry']\n",
      "['John', 'Mike']\n",
      "['Marry', 'Mike', 'Tony', 'John']\n",
      "['Marry']\n"
     ]
    }
   ],
   "source": [
    "# Slices\n",
    "\n",
    "# ! list[start:end:step]\n",
    "\n",
    "print(students)\n",
    "# print(students[x:y])\n",
    "# x -> start\n",
    "# y -> end\n",
    "\n",
    "# print(students[0:3])\n",
    "\n",
    "# print(students[0:3:2])\n",
    "\n",
    "print(students[::2])\n",
    "print(students[::-1])\n",
    "# -1 + (-1) = -2\n",
    "\n",
    "print(students[-1::2])"
   ]
  },
  {
   "cell_type": "code",
   "execution_count": 128,
   "id": "through-input",
   "metadata": {},
   "outputs": [
    {
     "name": "stdout",
     "output_type": "stream",
     "text": [
      "[1, 3, 5, 7, 9, 11, 13, 15, 17, 19, 21, 23, 25, 27, 29, 31, 33, 35, 37, 39, 41, 43, 45, 47, 49, 51, 53, 55, 57, 59, 61, 63, 65, 67, 69, 71, 73, 75, 77, 79, 81, 83, 85, 87, 89, 91, 93, 95, 97, 99]\n"
     ]
    }
   ],
   "source": [
    "numbers = list(range(1, 100))\n",
    "print(numbers[::2])\n"
   ]
  },
  {
   "cell_type": "code",
   "execution_count": 137,
   "id": "metropolitan-formation",
   "metadata": {},
   "outputs": [
    {
     "name": "stdout",
     "output_type": "stream",
     "text": [
      "1\n",
      "2\n",
      "3\n",
      "4\n",
      "Я нашел этот элемент: 5 Индекс: 4\n",
      "6\n",
      "7\n",
      "8\n",
      "9\n",
      "10\n",
      "Элемент: 5\n"
     ]
    }
   ],
   "source": [
    "my_list = [1, 2, 3, 4, 5, 6, 7, 8, 9, 10]\n",
    "to_find = 5\n",
    "index = 0\n",
    "finded_index = 0\n",
    "\n",
    "# True, False\n",
    "\n",
    "for number in my_list:\n",
    "    # Усли number = 5 (to_find): выведи мне что я нашел\n",
    "    # if variable == value:\n",
    "    #     ...\n",
    "    # else:\n",
    "    #     ...\n",
    "    if number == to_find:\n",
    "        print(\"Я нашел этот элемент:\", number, \"Индекс:\", index)\n",
    "        finded_index = index\n",
    "    else:\n",
    "        print(number)\n",
    "        \n",
    "    index += 1\n",
    "    \n",
    "\n",
    "print(\"Элемент:\", my_list[finded_index])"
   ]
  },
  {
   "cell_type": "code",
   "execution_count": 139,
   "id": "changing-mission",
   "metadata": {},
   "outputs": [
    {
     "name": "stdout",
     "output_type": "stream",
     "text": [
      "1\n",
      "2\n",
      "3\n",
      "4\n",
      "Я нашел этот элемент: 5 Индекс: 4\n",
      "6\n",
      "7\n",
      "8\n",
      "9\n",
      "10\n",
      "Элемент: 5\n"
     ]
    }
   ],
   "source": [
    "my_list = [1, 2, 3, 4, 5, 6, 7, 8, 9, 10]\n",
    "to_find = 5\n",
    "finded_index = 0\n",
    "\n",
    "for index, number in enumerate(my_list):\n",
    "    if number == to_find:\n",
    "        print(\"Я нашел этот элемент:\", number, \"Индекс:\", index)\n",
    "        finded_index = index\n",
    "    else:\n",
    "        print(number)\n",
    "    \n",
    "\n",
    "print(\"Элемент:\", my_list[finded_index])"
   ]
  },
  {
   "cell_type": "code",
   "execution_count": 1,
   "id": "lonely-cycling",
   "metadata": {},
   "outputs": [
    {
     "name": "stdout",
     "output_type": "stream",
     "text": [
      "1\n",
      "2\n",
      "3\n",
      "4\n",
      "Я нашел этот элемент: 5 Индекс: 4\n",
      "Элемент: 5\n"
     ]
    }
   ],
   "source": [
    "my_list = [1, 2, 3, 4, 5, 6, 7, 8, 9, 10]\n",
    "to_find = 5\n",
    "finded_index = 0\n",
    "\n",
    "for index, number in enumerate(my_list):\n",
    "    if number == to_find:\n",
    "        print(\"Я нашел этот элемент:\", number, \"Индекс:\", index)\n",
    "        finded_index = index\n",
    "        break\n",
    "    else:\n",
    "        print(number)\n",
    "    \n",
    "\n",
    "print(\"Элемент:\", my_list[finded_index])"
   ]
  },
  {
   "cell_type": "code",
   "execution_count": 3,
   "id": "stainless-marketplace",
   "metadata": {},
   "outputs": [
    {
     "name": "stdout",
     "output_type": "stream",
     "text": [
      "[0, 1, 2, 3, 4, 5, 6, 7, 8, 9]\n"
     ]
    }
   ],
   "source": [
    "numbers = []\n",
    "# Append\n",
    "\n",
    "for i in range(10):\n",
    "    numbers.append(i)\n",
    "    \n",
    "print(numbers)"
   ]
  },
  {
   "cell_type": "code",
   "execution_count": 6,
   "id": "stable-dover",
   "metadata": {},
   "outputs": [
    {
     "name": "stdout",
     "output_type": "stream",
     "text": [
      "[0, 2, 4, 6, 8, 10, 12, 14, 16, 18]\n"
     ]
    }
   ],
   "source": [
    "numbers = [i*2 for i in range(10)]\n",
    "\n",
    "print(numbers)"
   ]
  }
 ],
 "metadata": {
  "kernelspec": {
   "display_name": "Python 3",
   "language": "python",
   "name": "python3"
  },
  "language_info": {
   "codemirror_mode": {
    "name": "ipython",
    "version": 3
   },
   "file_extension": ".py",
   "mimetype": "text/x-python",
   "name": "python",
   "nbconvert_exporter": "python",
   "pygments_lexer": "ipython3",
   "version": "3.9.1"
  }
 },
 "nbformat": 4,
 "nbformat_minor": 5
}
