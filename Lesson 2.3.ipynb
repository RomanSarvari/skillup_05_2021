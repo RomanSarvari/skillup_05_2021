{
 "cells": [
  {
   "cell_type": "code",
   "execution_count": 1,
   "id": "synthetic-phrase",
   "metadata": {},
   "outputs": [],
   "source": [
    "# my_variable --> snake case\n",
    "# myVariable  --> camel case\n",
    "\n",
    "# ['False', 'None', 'True', 'and', 'as', 'assert',\n",
    "#  'break', 'class', 'continue', 'def', 'del', 'elif',\n",
    "#  'else', 'except', 'finally', 'for', 'from', 'global',\n",
    "#  'if', 'import', 'in', 'is', 'lambda', 'nonlocal',\n",
    "#  'not', 'or', 'pass', 'raise', 'return', 'try',\n",
    "#  'while', 'with', 'yield']"
   ]
  },
  {
   "cell_type": "code",
   "execution_count": 7,
   "id": "offshore-mount",
   "metadata": {},
   "outputs": [
    {
     "name": "stdout",
     "output_type": "stream",
     "text": [
      "1 1000.0 John Doe\n",
      "1\n"
     ]
    }
   ],
   "source": [
    "var = 1\n",
    "account_balance = 1000.0\n",
    "client_name = \"John Doe\"\n",
    "print(var, account_balance, client_name)\n",
    "# print(Var) # not defined\n",
    "print(var)"
   ]
  },
  {
   "cell_type": "code",
   "execution_count": 10,
   "id": "robust-april",
   "metadata": {},
   "outputs": [
    {
     "name": "stdout",
     "output_type": "stream",
     "text": [
      "Python version is: 3.7.1\n",
      "Python version is: 3.8.2\n"
     ]
    }
   ],
   "source": [
    "version = \"3.7.1\"\n",
    "print(\"Python version is:\", version)\n",
    "version = \"3.8.2\"\n",
    "print(\"Python version is:\", version)"
   ]
  },
  {
   "cell_type": "code",
   "execution_count": 17,
   "id": "occasional-surprise",
   "metadata": {},
   "outputs": [
    {
     "name": "stdout",
     "output_type": "stream",
     "text": [
      "3\n",
      "4\n"
     ]
    }
   ],
   "source": [
    "var = 1 + 2\n",
    "print(var)\n",
    "var = var + 1\n",
    "print(var)"
   ]
  },
  {
   "cell_type": "code",
   "execution_count": 22,
   "id": "cooperative-touch",
   "metadata": {},
   "outputs": [
    {
     "name": "stdout",
     "output_type": "stream",
     "text": [
      "Гипотенуза: 2.23606797749979\n"
     ]
    }
   ],
   "source": [
    "a = 2.0\n",
    "b = 1.0\n",
    "c = (a**2 + b**2) ** 0.5\n",
    "\n",
    "print(\"Гипотенуза:\", c)"
   ]
  },
  {
   "cell_type": "code",
   "execution_count": 23,
   "id": "corporate-vienna",
   "metadata": {},
   "outputs": [],
   "source": [
    "# x = x * 2\n",
    "# sheep = sheep + 1\n",
    "# x *= 2\n",
    "# sheep += 1\n",
    "# x = x + 1 == x++ -> Not Python\n",
    "# x = x - 1 == x-- -> Not Python\n",
    "\n",
    "# переменная = переменная оп выражение\n",
    "# переменная оп= выражение\n",
    "# i = i + 2 * j => i += 2 * j\n",
    "# var = var / 2 => var /= 2"
   ]
  },
  {
   "cell_type": "code",
   "execution_count": 29,
   "id": "treated-calgary",
   "metadata": {},
   "outputs": [],
   "source": [
    "# int a = 10;\n",
    "# string b = \"Text\";\n",
    "# int c = \"Text\"; -> Wrong\n",
    "a: int = 10 # For genius\n",
    "a: int = \"Text\""
   ]
  },
  {
   "cell_type": "code",
   "execution_count": 31,
   "id": "amateur-premiere",
   "metadata": {},
   "outputs": [
    {
     "name": "stdout",
     "output_type": "stream",
     "text": [
      "3\n"
     ]
    }
   ],
   "source": [
    "# ========================================\n",
    "\n",
    "# squareArea\n",
    "# auntJane\n",
    "\n",
    "# Это тестовая программа.\n",
    "x = 1\n",
    "y = 2\n",
    "\n",
    "# y = y + x\n",
    "print(x + y)"
   ]
  },
  {
   "cell_type": "code",
   "execution_count": 34,
   "id": "afraid-excuse",
   "metadata": {},
   "outputs": [
    {
     "name": "stdout",
     "output_type": "stream",
     "text": [
      "Tell me anything...\n",
      "Hmm...  ...Really?\n"
     ]
    }
   ],
   "source": [
    "# input()\n",
    "anything = input(\"Tell me anything...\")\n",
    "print(\"Hmm...\", anything, \"...Really?\")"
   ]
  },
  {
   "cell_type": "code",
   "execution_count": 36,
   "id": "renewable-broadcasting",
   "metadata": {},
   "outputs": [
    {
     "name": "stdout",
     "output_type": "stream",
     "text": [
      "--> asdasd\n",
      "asdasd\n"
     ]
    }
   ],
   "source": [
    "s = input('--> ')\n",
    "print(s)"
   ]
  },
  {
   "cell_type": "code",
   "execution_count": 38,
   "id": "acknowledged-crown",
   "metadata": {
    "collapsed": true
   },
   "outputs": [
    {
     "name": "stdout",
     "output_type": "stream",
     "text": [
      "Enter a number: 12\n"
     ]
    },
    {
     "ename": "TypeError",
     "evalue": "unsupported operand type(s) for ** or pow(): 'str' and 'int'",
     "output_type": "error",
     "traceback": [
      "\u001b[0;31m------------------------------------------------------------\u001b[0m",
      "\u001b[0;31mTypeError\u001b[0m                  Traceback (most recent call last)",
      "\u001b[0;32m<ipython-input-38-8f9a86ea4531>\u001b[0m in \u001b[0;36m<module>\u001b[0;34m\u001b[0m\n\u001b[1;32m      1\u001b[0m \u001b[0;31m# Don't do this\u001b[0m\u001b[0;34m\u001b[0m\u001b[0;34m\u001b[0m\u001b[0;34m\u001b[0m\u001b[0m\n\u001b[1;32m      2\u001b[0m \u001b[0manything\u001b[0m \u001b[0;34m=\u001b[0m \u001b[0minput\u001b[0m\u001b[0;34m(\u001b[0m\u001b[0;34m\"Enter a number: \"\u001b[0m\u001b[0;34m)\u001b[0m\u001b[0;34m\u001b[0m\u001b[0;34m\u001b[0m\u001b[0m\n\u001b[0;32m----> 3\u001b[0;31m \u001b[0msomething\u001b[0m \u001b[0;34m=\u001b[0m \u001b[0manything\u001b[0m \u001b[0;34m**\u001b[0m \u001b[0;36m2\u001b[0m\u001b[0;34m\u001b[0m\u001b[0;34m\u001b[0m\u001b[0m\n\u001b[0m\u001b[1;32m      4\u001b[0m \u001b[0mprint\u001b[0m\u001b[0;34m(\u001b[0m\u001b[0;34m\"anything, to the pwoer of 2 is\"\u001b[0m\u001b[0;34m,\u001b[0m \u001b[0msomething\u001b[0m\u001b[0;34m)\u001b[0m\u001b[0;34m\u001b[0m\u001b[0;34m\u001b[0m\u001b[0m\n",
      "\u001b[0;31mTypeError\u001b[0m: unsupported operand type(s) for ** or pow(): 'str' and 'int'"
     ]
    }
   ],
   "source": [
    "# Don't do this\n",
    "anything = input(\"Enter a number: \")\n",
    "something = anything ** 2\n",
    "print(\"anything, to the pwoer of 2 is\", something)"
   ]
  },
  {
   "cell_type": "code",
   "execution_count": 42,
   "id": "tough-victor",
   "metadata": {},
   "outputs": [
    {
     "name": "stdout",
     "output_type": "stream",
     "text": [
      "Enter a number: 12\n",
      "anything, to the pwoer of 2 is 144\n"
     ]
    }
   ],
   "source": [
    "# int(string)\n",
    "# float(string)\n",
    "\n",
    "# anything = input(\"Enter a number: \")\n",
    "anything = int(input(\"Enter a number: \"))\n",
    "something = anything ** 2\n",
    "print(\"anything, to the pwoer of 2 is\", something)"
   ]
  },
  {
   "cell_type": "code",
   "execution_count": 49,
   "id": "armed-halifax",
   "metadata": {},
   "outputs": [
    {
     "ename": "TypeError",
     "evalue": "int() argument must be a string, a bytes-like object or a number, not 'NoneType'",
     "output_type": "error",
     "traceback": [
      "\u001b[0;31m------------------------------------------------------------\u001b[0m",
      "\u001b[0;31mTypeError\u001b[0m                  Traceback (most recent call last)",
      "\u001b[0;32m<ipython-input-49-af2123a46eb2>\u001b[0m in \u001b[0;36m<module>\u001b[0;34m\u001b[0m\n\u001b[0;32m----> 1\u001b[0;31m \u001b[0mint\u001b[0m\u001b[0;34m(\u001b[0m\u001b[0;32mNone\u001b[0m\u001b[0;34m)\u001b[0m\u001b[0;34m\u001b[0m\u001b[0;34m\u001b[0m\u001b[0m\n\u001b[0m",
      "\u001b[0;31mTypeError\u001b[0m: int() argument must be a string, a bytes-like object or a number, not 'NoneType'"
     ]
    }
   ],
   "source": [
    "int(None)"
   ]
  },
  {
   "cell_type": "code",
   "execution_count": 66,
   "id": "billion-count",
   "metadata": {
    "collapsed": true
   },
   "outputs": [
    {
     "ename": "KeyboardInterrupt",
     "evalue": "Interrupted by user",
     "output_type": "error",
     "traceback": [
      "\u001b[0;31m------------------------------------------------------------\u001b[0m",
      "\u001b[0;31mKeyboardInterrupt\u001b[0m          Traceback (most recent call last)",
      "\u001b[0;32m<ipython-input-66-8a1a7268012e>\u001b[0m in \u001b[0;36m<module>\u001b[0;34m\u001b[0m\n\u001b[0;32m----> 1\u001b[0;31m \u001b[0ma\u001b[0m \u001b[0;34m=\u001b[0m \u001b[0mfloat\u001b[0m\u001b[0;34m(\u001b[0m\u001b[0minput\u001b[0m\u001b[0;34m(\u001b[0m\u001b[0;34m\"Введите первую сторону: \"\u001b[0m\u001b[0;34m)\u001b[0m\u001b[0;34m)\u001b[0m\u001b[0;34m\u001b[0m\u001b[0;34m\u001b[0m\u001b[0m\n\u001b[0m\u001b[1;32m      2\u001b[0m \u001b[0mb\u001b[0m \u001b[0;34m=\u001b[0m \u001b[0mfloat\u001b[0m\u001b[0;34m(\u001b[0m\u001b[0minput\u001b[0m\u001b[0;34m(\u001b[0m\u001b[0;34m\"Введите вторую сторону: \"\u001b[0m\u001b[0;34m)\u001b[0m\u001b[0;34m)\u001b[0m\u001b[0;34m\u001b[0m\u001b[0;34m\u001b[0m\u001b[0m\n\u001b[1;32m      3\u001b[0m \u001b[0;31m# c = (a**2 + b**2)**.5\u001b[0m\u001b[0;34m\u001b[0m\u001b[0;34m\u001b[0m\u001b[0;34m\u001b[0m\u001b[0m\n\u001b[1;32m      4\u001b[0m \u001b[0mprint\u001b[0m\u001b[0;34m(\u001b[0m\u001b[0;34m\"Hypotenuse lenght is:\"\u001b[0m\u001b[0;34m,\u001b[0m \u001b[0;34m(\u001b[0m\u001b[0ma\u001b[0m\u001b[0;34m**\u001b[0m\u001b[0;36m2\u001b[0m \u001b[0;34m+\u001b[0m \u001b[0mb\u001b[0m\u001b[0;34m**\u001b[0m\u001b[0;36m2\u001b[0m\u001b[0;34m)\u001b[0m\u001b[0;34m**\u001b[0m\u001b[0;36m.5\u001b[0m\u001b[0;34m)\u001b[0m\u001b[0;34m\u001b[0m\u001b[0;34m\u001b[0m\u001b[0m\n",
      "\u001b[0;32m~/.pyenv/versions/3.9.1/lib/python3.9/site-packages/ipykernel/kernelbase.py\u001b[0m in \u001b[0;36mraw_input\u001b[0;34m(self, prompt)\u001b[0m\n\u001b[1;32m    846\u001b[0m                 \u001b[0;34m\"raw_input was called, but this frontend does not support input requests.\"\u001b[0m\u001b[0;34m\u001b[0m\u001b[0;34m\u001b[0m\u001b[0m\n\u001b[1;32m    847\u001b[0m             )\n\u001b[0;32m--> 848\u001b[0;31m         return self._input_request(str(prompt),\n\u001b[0m\u001b[1;32m    849\u001b[0m             \u001b[0mself\u001b[0m\u001b[0;34m.\u001b[0m\u001b[0m_parent_ident\u001b[0m\u001b[0;34m,\u001b[0m\u001b[0;34m\u001b[0m\u001b[0;34m\u001b[0m\u001b[0m\n\u001b[1;32m    850\u001b[0m             \u001b[0mself\u001b[0m\u001b[0;34m.\u001b[0m\u001b[0m_parent_header\u001b[0m\u001b[0;34m,\u001b[0m\u001b[0;34m\u001b[0m\u001b[0;34m\u001b[0m\u001b[0m\n",
      "\u001b[0;32m~/.pyenv/versions/3.9.1/lib/python3.9/site-packages/ipykernel/kernelbase.py\u001b[0m in \u001b[0;36m_input_request\u001b[0;34m(self, prompt, ident, parent, password)\u001b[0m\n\u001b[1;32m    890\u001b[0m             \u001b[0;32mexcept\u001b[0m \u001b[0mKeyboardInterrupt\u001b[0m\u001b[0;34m:\u001b[0m\u001b[0;34m\u001b[0m\u001b[0;34m\u001b[0m\u001b[0m\n\u001b[1;32m    891\u001b[0m                 \u001b[0;31m# re-raise KeyboardInterrupt, to truncate traceback\u001b[0m\u001b[0;34m\u001b[0m\u001b[0;34m\u001b[0m\u001b[0;34m\u001b[0m\u001b[0m\n\u001b[0;32m--> 892\u001b[0;31m                 \u001b[0;32mraise\u001b[0m \u001b[0mKeyboardInterrupt\u001b[0m\u001b[0;34m(\u001b[0m\u001b[0;34m\"Interrupted by user\"\u001b[0m\u001b[0;34m)\u001b[0m \u001b[0;32mfrom\u001b[0m \u001b[0;32mNone\u001b[0m\u001b[0;34m\u001b[0m\u001b[0;34m\u001b[0m\u001b[0m\n\u001b[0m\u001b[1;32m    893\u001b[0m             \u001b[0;32mexcept\u001b[0m \u001b[0mException\u001b[0m \u001b[0;32mas\u001b[0m \u001b[0me\u001b[0m\u001b[0;34m:\u001b[0m\u001b[0;34m\u001b[0m\u001b[0;34m\u001b[0m\u001b[0m\n\u001b[1;32m    894\u001b[0m                 \u001b[0mself\u001b[0m\u001b[0;34m.\u001b[0m\u001b[0mlog\u001b[0m\u001b[0;34m.\u001b[0m\u001b[0mwarning\u001b[0m\u001b[0;34m(\u001b[0m\u001b[0;34m\"Invalid Message:\"\u001b[0m\u001b[0;34m,\u001b[0m \u001b[0mexc_info\u001b[0m\u001b[0;34m=\u001b[0m\u001b[0;32mTrue\u001b[0m\u001b[0;34m)\u001b[0m\u001b[0;34m\u001b[0m\u001b[0;34m\u001b[0m\u001b[0m\n",
      "\u001b[0;31mKeyboardInterrupt\u001b[0m: Interrupted by user"
     ]
    }
   ],
   "source": [
    "a = float(input(\"Введите первую сторону: \"))\n",
    "b = float(input(\"Введите вторую сторону: \"))\n",
    "# c = (a**2 + b**2)**.5\n",
    "print(\"Hypotenuse lenght is:\", (a**2 + b**2)**.5)"
   ]
  },
  {
   "cell_type": "code",
   "execution_count": 67,
   "id": "second-hydrogen",
   "metadata": {},
   "outputs": [
    {
     "name": "stdout",
     "output_type": "stream",
     "text": [
      "Helloworld\n"
     ]
    }
   ],
   "source": [
    "# Concatenation\n",
    "# +\n",
    "a = \"Hello\"\n",
    "b = \"world\"\n",
    "c = a + b\n",
    "print(c)"
   ]
  },
  {
   "cell_type": "code",
   "execution_count": 68,
   "id": "powerful-prayer",
   "metadata": {},
   "outputs": [
    {
     "name": "stdout",
     "output_type": "stream",
     "text": [
      "**********************\n",
      "Result: 45\n",
      "**********************\n"
     ]
    }
   ],
   "source": [
    "# replication\n",
    "# строка * число\n",
    "# число * строку\n",
    "\n",
    "div_char = \"*\"\n",
    "div_chars_number = 22\n",
    "result = 45\n",
    "\n",
    "print(div_chars_number * div_char)\n",
    "print(\"Result:\",result)\n",
    "print(div_chars_number * div_char)"
   ]
  },
  {
   "cell_type": "code",
   "execution_count": 75,
   "id": "proved-playback",
   "metadata": {},
   "outputs": [
    {
     "data": {
      "text/plain": [
       "'12'"
      ]
     },
     "execution_count": 75,
     "metadata": {},
     "output_type": "execute_result"
    }
   ],
   "source": [
    "num = 12\n",
    "s = str(num)\n",
    "# repr(s)\n",
    "repr(num)"
   ]
  },
  {
   "cell_type": "code",
   "execution_count": 76,
   "id": "furnished-thomson",
   "metadata": {},
   "outputs": [
    {
     "name": "stdout",
     "output_type": "stream",
     "text": [
      "Enter your name: Dima\n",
      "Hello,  Dima\n"
     ]
    }
   ],
   "source": [
    "name = input(\"Enter your name: \")\n",
    "print(\"Hello, \", name)"
   ]
  },
  {
   "cell_type": "code",
   "execution_count": 77,
   "id": "senior-establishment",
   "metadata": {},
   "outputs": [
    {
     "name": "stdout",
     "output_type": "stream",
     "text": [
      "Enter your first name: Dima\n",
      "Enter your surname: Doe\n",
      "Hello, Dima Doe\n"
     ]
    }
   ],
   "source": [
    "full_name = input(\"Enter your first name: \") + \" \" + input(\"Enter your surname: \")\n",
    "print(\"Hello,\", full_name)"
   ]
  },
  {
   "cell_type": "code",
   "execution_count": 79,
   "id": "revolutionary-stomach",
   "metadata": {},
   "outputs": [
    {
     "name": "stdout",
     "output_type": "stream",
     "text": [
      "Enter your name: John\n",
      "Enter divider: ____\n",
      "Enter your surname: Doe\n",
      "John____Doe\n"
     ]
    }
   ],
   "source": [
    "# 1. input(\"First name\") ==> John\n",
    "# 2. ==> John_\n",
    "# 2.5 input(\"Surname\") ==> Doe\n",
    "# 3. John_ + Doe\n",
    "# 4. full_name = John_Doe\n",
    "# first_name = input(\"Enter your name: \")\n",
    "# surname = 'Doe'\n",
    "# space = '_'\n",
    "full_name = input(\"Enter your name: \") + input(\"Enter divider: \") + input(\"Enter your surname: \")\n",
    "print(full_name)"
   ]
  },
  {
   "cell_type": "code",
   "execution_count": null,
   "id": "equal-gnome",
   "metadata": {},
   "outputs": [],
   "source": []
  }
 ],
 "metadata": {
  "kernelspec": {
   "display_name": "Python 3",
   "language": "python",
   "name": "python3"
  },
  "language_info": {
   "codemirror_mode": {
    "name": "ipython",
    "version": 3
   },
   "file_extension": ".py",
   "mimetype": "text/x-python",
   "name": "python",
   "nbconvert_exporter": "python",
   "pygments_lexer": "ipython3",
   "version": "3.9.1"
  }
 },
 "nbformat": 4,
 "nbformat_minor": 5
}
